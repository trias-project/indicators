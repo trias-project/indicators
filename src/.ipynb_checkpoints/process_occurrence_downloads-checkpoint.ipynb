{
 "cells": [
  {
   "cell_type": "markdown",
   "metadata": {},
   "source": [
    "# Process occurrences"
   ]
  },
  {
   "cell_type": "markdown",
   "metadata": {},
   "source": [
    " This tutorial shows a typical pipeline to download occurrences data from [GBIF](https://www.gbif.org \"GBIF\") and mantain download history updated."
   ]
  },
  {
   "cell_type": "markdown",
   "metadata": {},
   "source": [
    "## Install and load packages"
   ]
  },
  {
   "cell_type": "markdown",
   "metadata": {},
   "source": [
    " If you don't, you need to install `RGBIF` and `trias` packages first."
   ]
  },
  {
   "cell_type": "code",
   "execution_count": 4,
   "metadata": {},
   "outputs": [
    {
     "name": "stderr",
     "output_type": "stream",
     "text": [
      "Installing package into 'C:/R/Library'\n",
      "(as 'lib' is unspecified)\n"
     ]
    },
    {
     "name": "stdout",
     "output_type": "stream",
     "text": [
      "package 'rgbif' successfully unpacked and MD5 sums checked\n",
      "\n",
      "The downloaded binary packages are in\n",
      "\tC:\\Users\\damiano_oldoni\\AppData\\Local\\Temp\\RtmpuYO90D\\downloaded_packages\n"
     ]
    },
    {
     "name": "stderr",
     "output_type": "stream",
     "text": [
      "Skipping install of 'trias' from a github remote, the SHA1 (d4fb15d7) has not changed since last install.\n",
      "  Use `force = TRUE` to force installation\n"
     ]
    }
   ],
   "source": [
    "install.packages(\"rgbif\")\n",
    "devtools::install_github(\"trias-project/trias\")"
   ]
  },
  {
   "cell_type": "markdown",
   "metadata": {},
   "source": [
    "In case you have them already installed, just load them:"
   ]
  },
  {
   "cell_type": "code",
   "execution_count": 5,
   "metadata": {},
   "outputs": [],
   "source": [
    "library(rgbif)\n",
    "library(trias)"
   ]
  },
  {
   "cell_type": "markdown",
   "metadata": {},
   "source": [
    "## Download GBIF occurrences"
   ]
  },
  {
   "cell_type": "markdown",
   "metadata": {},
   "source": [
    "### For species of EU concern"
   ]
  },
  {
   "cell_type": "markdown",
   "metadata": {},
   "source": [
    "#### Input"
   ]
  },
  {
   "cell_type": "markdown",
   "metadata": {},
   "source": [
    "In this section we will focus on the procedure to download occurrence data for a (check)list of species saved in the file `eu_concern_species.tsv`. After importing the checklist, the taxonomic keys for all species are selected (`taxonKeys`).\n"
   ]
  },
  {
   "cell_type": "code",
   "execution_count": 8,
   "metadata": {},
   "outputs": [],
   "source": [
    "input_checklist <- \"./data/input/eu_concern_species.tsv\"\n",
    "eu_concern_species <- read.table(file = input_checklist, header = TRUE, sep = \"\\t\")\n",
    "taxonKeys <- eu_concern_species[\"gbif_taxonKey\"]"
   ]
  },
  {
   "cell_type": "markdown",
   "metadata": {},
   "source": [
    "You can see that the file contains 38 species."
   ]
  },
  {
   "cell_type": "code",
   "execution_count": 11,
   "metadata": {},
   "outputs": [
    {
     "data": {
      "text/html": [
       "38"
      ],
      "text/latex": [
       "38"
      ],
      "text/markdown": [
       "38"
      ],
      "text/plain": [
       "[1] 38"
      ]
     },
     "metadata": {},
     "output_type": "display_data"
    }
   ],
   "source": [
    "length(taxonKeys$gbif_taxonKey)"
   ]
  },
  {
   "cell_type": "markdown",
   "metadata": {},
   "source": [
    "Specifiy the countries of interest based on [ISO_3166-1_alpha-2](https://en.wikipedia.org/wiki/ISO_3166-1_alpha-2 \"country codes\"). For example:"
   ]
  },
  {
   "cell_type": "code",
   "execution_count": 14,
   "metadata": {},
   "outputs": [],
   "source": [
    "countries <- list(country = c(\"BE\", \"PL\"))"
   ]
  },
  {
   "cell_type": "markdown",
   "metadata": {},
   "source": [
    " It's time to spin up a download request for GBIF occurrence data:"
   ]
  },
  {
   "cell_type": "code",
   "execution_count": 15,
   "metadata": {},
   "outputs": [],
   "source": [
    "gbif_download_key <- rgbif::occ_download(\n",
    "  paste(\"taxonKey = \", paste(unlist(taxonKeys), collapse = \",\")), \n",
    "  paste(\"country = \", paste(unlist(countries), collapse = \",\")), \n",
    "  curlopts = list(verbose = TRUE))"
   ]
  },
  {
   "cell_type": "markdown",
   "metadata": {},
   "source": [
    "#### Check status of download"
   ]
  },
  {
   "cell_type": "markdown",
   "metadata": {},
   "source": [
    "Downloads can take a while to succeed. You can always check the status of a download request by means of its metadata by means of RGBIF function `occ_download_meta`:"
   ]
  },
  {
   "cell_type": "code",
   "execution_count": 19,
   "metadata": {},
   "outputs": [
    {
     "data": {
      "text/html": [
       "'SUCCEEDED'"
      ],
      "text/latex": [
       "'SUCCEEDED'"
      ],
      "text/markdown": [
       "'SUCCEEDED'"
      ],
      "text/plain": [
       "[1] \"SUCCEEDED\""
      ]
     },
     "metadata": {},
     "output_type": "display_data"
    }
   ],
   "source": [
    "metadata <- rgbif::occ_download_meta(key = gbif_download_key)\n",
    "metadata$status"
   ]
  },
  {
   "cell_type": "markdown",
   "metadata": {},
   "source": [
    "Status PREPARING or RUNNING means the download request is still not succeded and you will have to wait a little more. Still, you don't have to remember which downloads are still running or being prepared. The trias function `update_download_list` will do it automatically."
   ]
  },
  {
   "cell_type": "markdown",
   "metadata": {},
   "source": [
    "#### Write download to list of downloads and check pending downloads"
   ]
  },
  {
   "cell_type": "markdown",
   "metadata": {},
   "source": [
    "All download requests are saved in a tsv file, called [gbif_downloads.tsv](./data/output/gbif_downloads.tsv \"output file\").\n",
    "Seven columns are present:\n",
    "* *gbif_download_key*: key associatd to a download request and automatically generated by GBIF,\n",
    "* *input_checklist*: input checklist with taxonKyes,\n",
    "* *input_country*: countries,\n",
    "* *gbif_download_created*: download request datetime, \n",
    "* *gbif_download_status*: download status. One of the following: PREPARING, RUNNING, SUCCEDED, FAILED,\n",
    "* *gbif_download_doi*: automatically assigned doi\n",
    " \n",
    " The function `update_download_list` does the following:\n",
    "* inserts a new line in the file if the download key, *gbif_download_key*, is not present.\n",
    "* all downloads in the file with status PREPARING or RUNNING are checked and, in case, updated to SUCCEEDED or FAILED."
   ]
  },
  {
   "cell_type": "code",
   "execution_count": 25,
   "metadata": {},
   "outputs": [
    {
     "ename": "ERROR",
     "evalue": "Error in scan(file = file, what = what, sep = sep, quote = quote, dec = dec, : line 1 did not have 2 elements\n",
     "output_type": "error",
     "traceback": [
      "Error in scan(file = file, what = what, sep = sep, quote = quote, dec = dec, : line 1 did not have 2 elements\nTraceback:\n",
      "1. trias::update_download_list(file = \"./data/output/gbif_downloads.tsv\", \n .     download_to_add = gbif_download_key, input_checklist = input_checklist, \n .     countries = countries)",
      "2. read.table(file = file, header = TRUE, sep = \",\", stringsAsFactors = FALSE)   # at line 16 of file C:/Users/damiano_oldoni/AppData/Local/Temp/RtmpcXFgoZ/devtools1c2c135678ce/trias-project-trias-d4fb15d/R/update_download_list.R",
      "3. scan(file = file, what = what, sep = sep, quote = quote, dec = dec, \n .     nmax = nrows, skip = 0, na.strings = na.strings, quiet = TRUE, \n .     fill = fill, strip.white = strip.white, blank.lines.skip = blank.lines.skip, \n .     multi.line = FALSE, comment.char = comment.char, allowEscapes = allowEscapes, \n .     flush = flush, encoding = encoding, skipNul = skipNul)"
     ]
    }
   ],
   "source": [
    "trias::update_download_list(file = \"./data/output/gbif_downloads.tsv\", \n",
    "                            download_to_add = gbif_download_key, \n",
    "                            input_checklist = input_checklist, countries = countries)"
   ]
  },
  {
   "cell_type": "code",
   "execution_count": null,
   "metadata": {},
   "outputs": [],
   "source": []
  },
  {
   "cell_type": "code",
   "execution_count": null,
   "metadata": {},
   "outputs": [],
   "source": []
  }
 ],
 "metadata": {
  "kernelspec": {
   "display_name": "R",
   "language": "R",
   "name": "ir"
  },
  "language_info": {
   "codemirror_mode": "r",
   "file_extension": ".r",
   "mimetype": "text/x-r-source",
   "name": "R",
   "pygments_lexer": "r",
   "version": "3.4.2"
  }
 },
 "nbformat": 4,
 "nbformat_minor": 2
}
